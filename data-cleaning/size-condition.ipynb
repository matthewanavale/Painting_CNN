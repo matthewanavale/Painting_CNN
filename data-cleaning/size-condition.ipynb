{
 "cells": [
  {
   "cell_type": "code",
   "execution_count": 1,
   "metadata": {},
   "outputs": [],
   "source": [
    "from PIL import Image\n",
    "import os"
   ]
  },
  {
   "cell_type": "markdown",
   "metadata": {},
   "source": [
    "List all the file in the directory"
   ]
  },
  {
   "cell_type": "code",
   "execution_count": 5,
   "metadata": {},
   "outputs": [],
   "source": [
    "realism_path = \"C:\\\\Users\\\\ASUS\\\\Downloads\\\\impressionism\\\\\"                  # change the directory\n",
    "file_list = os.listdir(realism_path)"
   ]
  },
  {
   "cell_type": "markdown",
   "metadata": {},
   "source": [
    "Get the total number of images inside the file"
   ]
  },
  {
   "cell_type": "code",
   "execution_count": 6,
   "metadata": {},
   "outputs": [
    {
     "name": "stdout",
     "output_type": "stream",
     "text": [
      "Number of images: 3552\n"
     ]
    }
   ],
   "source": [
    "print(f\"Number of images: {len(file_list)}\")"
   ]
  },
  {
   "cell_type": "markdown",
   "metadata": {},
   "source": [
    "Iterate through the images in the file"
   ]
  },
  {
   "cell_type": "code",
   "execution_count": 8,
   "metadata": {},
   "outputs": [
    {
     "name": "stdout",
     "output_type": "stream",
     "text": [
      "zuiderkerk-in-amsterdam.jpg\n",
      "\n",
      "Number of deleted images: 0\n"
     ]
    }
   ],
   "source": [
    "deleted_img = 0\n",
    "\n",
    "for file_name in file_list:\n",
    "    if file_name.endswith((\".jpg\", \".jpeg\", \".png\", \".gif\", \".bmp\")):\n",
    "        file_path = os.path.join(realism_path, file_name)\n",
    "        with Image.open(file_path) as img:\n",
    "            width, height = img.size\n",
    "\n",
    "        if width < 300 and height < 300:\n",
    "            os.remove(file_path)\n",
    "            print(f\"Deleted file name: {file_name} | Width: {width}, Height: {height}\")\n",
    "            deleted_img += 1\n",
    "\n",
    "print(f\"\\nNumber of deleted images: {deleted_img}\")"
   ]
  }
 ],
 "metadata": {
  "kernelspec": {
   "display_name": "Python 3",
   "language": "python",
   "name": "python3"
  },
  "language_info": {
   "codemirror_mode": {
    "name": "ipython",
    "version": 3
   },
   "file_extension": ".py",
   "mimetype": "text/x-python",
   "name": "python",
   "nbconvert_exporter": "python",
   "pygments_lexer": "ipython3",
   "version": "3.11.2"
  },
  "orig_nbformat": 4
 },
 "nbformat": 4,
 "nbformat_minor": 2
}

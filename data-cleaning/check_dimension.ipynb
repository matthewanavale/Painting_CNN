{
 "cells": [
  {
   "cell_type": "code",
   "execution_count": 2,
   "metadata": {},
   "outputs": [],
   "source": [
    "from PIL import Image\n",
    "import os\n",
    "import shutil"
   ]
  },
  {
   "cell_type": "markdown",
   "metadata": {},
   "source": [
    "List all the file in the directory"
   ]
  },
  {
   "cell_type": "code",
   "execution_count": 11,
   "metadata": {},
   "outputs": [],
   "source": [
    "cleansed_file_path = \"D:/TUP SCHOOLWORKS/3rd Year/ACTIVITIES/1ST SEM/DATA ANALYTICS/Painting/my_dataset/Impressionism_data/cleansed_impressionism/\"\n",
    "destination_not_cleansed_file_path = \"C:/Users/ASUS/Downloads/not_size_realism/\"\n",
    "file_img_list = os.listdir(cleansed_file_path)"
   ]
  },
  {
   "cell_type": "markdown",
   "metadata": {},
   "source": [
    "Get the total number of images inside the file"
   ]
  },
  {
   "cell_type": "code",
   "execution_count": 12,
   "metadata": {},
   "outputs": [
    {
     "name": "stdout",
     "output_type": "stream",
     "text": [
      "Number of images: 3125\n"
     ]
    }
   ],
   "source": [
    "print(f\"Number of images: {len(file_img_list)}\")"
   ]
  },
  {
   "cell_type": "markdown",
   "metadata": {},
   "source": [
    "<strong>Verify</strong> the dimension of each image"
   ]
  },
  {
   "cell_type": "code",
   "execution_count": 13,
   "metadata": {},
   "outputs": [],
   "source": [
    "sorted_file_img_list = sorted(file_img_list)\n",
    "num_image_not_dimension = 0\n",
    "\n",
    "# Check if folder does exist or not\n",
    "if not os.path.exists(destination_not_cleansed_file_path):\n",
    "    os.makedirs(destination_not_cleansed_file_path)\n",
    "\n",
    "for file_name in sorted_file_img_list:\n",
    "    file_img_path = os.path.join(cleansed_file_path, file_name)\n",
    "    try:\n",
    "        image = Image.open(file_img_path)\n",
    "        width, height = image.size\n",
    "        if width != 640 and height != 640:\n",
    "            shutil.move(file_img_path, destination_not_cleansed_file_path)\n",
    "            num_image_not_dimension += 1\n",
    "            \n",
    "    except Exception as e: \n",
    "        print(f\"Error processing {file_name}: {str(e)}\")"
   ]
  },
  {
   "cell_type": "markdown",
   "metadata": {},
   "source": [
    "Show the result"
   ]
  },
  {
   "cell_type": "code",
   "execution_count": 14,
   "metadata": {},
   "outputs": [
    {
     "name": "stdout",
     "output_type": "stream",
     "text": [
      "Number of images that did not meet the size condition: 0\n"
     ]
    }
   ],
   "source": [
    "if num_image_not_dimension == 0:\n",
    "    try:\n",
    "        os.rmdir(destination_not_cleansed_file_path)\n",
    "    except OSError as e:\n",
    "        print(f\"Error: {str(e)}\")\n",
    "\n",
    "print(f\"Number of images that did not meet the size condition: {num_image_not_dimension}\")"
   ]
  }
 ],
 "metadata": {
  "kernelspec": {
   "display_name": "Python 3",
   "language": "python",
   "name": "python3"
  },
  "language_info": {
   "codemirror_mode": {
    "name": "ipython",
    "version": 3
   },
   "file_extension": ".py",
   "mimetype": "text/x-python",
   "name": "python",
   "nbconvert_exporter": "python",
   "pygments_lexer": "ipython3",
   "version": "3.11.2"
  },
  "orig_nbformat": 4
 },
 "nbformat": 4,
 "nbformat_minor": 2
}

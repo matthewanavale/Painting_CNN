{
 "cells": [
  {
   "cell_type": "code",
   "execution_count": 3,
   "id": "7d95720f",
   "metadata": {},
   "outputs": [
    {
     "name": "stderr",
     "output_type": "stream",
     "text": [
      "Copying files: 1756 files [00:17, 99.62 files/s] \n"
     ]
    }
   ],
   "source": [
    "import splitfolders\n",
    "\n",
    "input_folder = 'D:\\\\SCHOOL FILES\\\\3RD YR\\\\PAINTING TYPES\\\\data'\n",
    "splitfolders.ratio(input_folder, output = 'D:\\\\SCHOOL FILES\\\\3RD YR\\\\PAINTING TYPES\\\\dataset',\n",
    "                   seed = 123, ratio =(.7, .15, .15), group_prefix = None)"
   ]
  },
  {
   "cell_type": "code",
   "execution_count": null,
   "id": "bdb39121",
   "metadata": {},
   "outputs": [],
   "source": []
  },
  {
   "cell_type": "code",
   "execution_count": null,
   "id": "bb340e9a",
   "metadata": {},
   "outputs": [],
   "source": []
  }
 ],
 "metadata": {
  "kernelspec": {
   "display_name": "DA",
   "language": "python",
   "name": "da"
  },
  "language_info": {
   "codemirror_mode": {
    "name": "ipython",
    "version": 3
   },
   "file_extension": ".py",
   "mimetype": "text/x-python",
   "name": "python",
   "nbconvert_exporter": "python",
   "pygments_lexer": "ipython3",
   "version": "3.7.12"
  }
 },
 "nbformat": 4,
 "nbformat_minor": 5
}

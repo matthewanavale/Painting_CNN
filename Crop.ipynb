{
 "cells": [
  {
   "cell_type": "code",
   "execution_count": 13,
   "id": "6d9bec46",
   "metadata": {},
   "outputs": [],
   "source": [
    "from PIL import Image\n",
    "import os"
   ]
  },
  {
   "cell_type": "code",
   "execution_count": 7,
   "id": "d1ab8248",
   "metadata": {},
   "outputs": [],
   "source": [
    "def crop_images(input_folder, output_folder, target_size):\n",
    "    # Ensure the output folder exists; create it if not\n",
    "    if not os.path.exists(output_folder):\n",
    "        os.makedirs(output_folder)\n",
    "\n",
    "    # List all files in the input folder\n",
    "    files = os.listdir(input_folder)\n",
    "\n",
    "    for file in files:\n",
    "        if file.endswith((\".jpg\", \".jpeg\", \".png\", \".gif\")):\n",
    "            try:\n",
    "                # Open the image file\n",
    "                image = Image.open(os.path.join(input_folder, file))\n",
    "\n",
    "                # Get the dimensions of the original image\n",
    "                original_width, original_height = image.size\n",
    "\n",
    "                # Calculate the cropping coordinates\n",
    "                left = (original_width - target_size[0]) / 2\n",
    "                top = (original_height - target_size[1]) / 2\n",
    "                right = left + target_size[0]\n",
    "                bottom = top + target_size[1]\n",
    "\n",
    "                # Crop the image to the specified size\n",
    "                cropped_image = image.crop((left, top, right, bottom))\n",
    "\n",
    "                # Save the cropped image to the output folder\n",
    "                cropped_image.save(os.path.join(output_folder, file))\n",
    "\n",
    "            except Exception as e:\n",
    "                print(f\"Error processing {file}: {str(e)}\")\n",
    "\n"
   ]
  },
  {
   "cell_type": "code",
   "execution_count": 12,
   "id": "d8d2bb0e",
   "metadata": {},
   "outputs": [],
   "source": [
    "    \n",
    "if __name__ == \"__main__\":\n",
    "    \n",
    "    input_folder = \"E:\\\\Data Analytics\\\\Ancient Egyptians\"\n",
    "    output_folder =  \"E:\\\\Data Analytics\\\\Ancient Egyptians Cropped\"  \n",
    "    \n",
    "    \n",
    "    target_size = (1440, 1080)  \n",
    "\n",
    "\n",
    "    crop_images(input_folder, output_folder, target_size)"
   ]
  },
  {
   "cell_type": "code",
   "execution_count": null,
   "id": "edce4a7d",
   "metadata": {},
   "outputs": [],
   "source": []
  }
 ],
 "metadata": {
  "kernelspec": {
   "display_name": "Python 3 (ipykernel)",
   "language": "python",
   "name": "python3"
  },
  "language_info": {
   "codemirror_mode": {
    "name": "ipython",
    "version": 3
   },
   "file_extension": ".py",
   "mimetype": "text/x-python",
   "name": "python",
   "nbconvert_exporter": "python",
   "pygments_lexer": "ipython3",
   "version": "3.11.4"
  }
 },
 "nbformat": 4,
 "nbformat_minor": 5
}
